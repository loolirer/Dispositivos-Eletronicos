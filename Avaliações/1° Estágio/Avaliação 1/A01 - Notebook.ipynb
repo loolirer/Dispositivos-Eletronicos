{
 "cells": [
  {
   "cell_type": "markdown",
   "metadata": {},
   "source": [
    "# [Avaliação 01](A01_-_Documento.pdf) - Diodos (28/07)\n",
    "\n",
    "Esta avaliação tem como objetivo o estudo referente à modelagem matemática das propriedades de operação de um Diodo. \n",
    "\n",
    "**Desenvolvedores:**\n",
    "\n",
    "- *André Vitor Cadena de Oliveira*\n",
    "- *Lorenzo Carrera de Oliveira* \n",
    "- *Mateus Pincho de Oliveira* \n",
    "\n",
    "---"
   ]
  },
  {
   "cell_type": "markdown",
   "metadata": {},
   "source": [
    "## Montagem 🛠️\n",
    "\n",
    "**Lista de Componentes:**\n",
    "- Fonte de tensão de $12V$;\n",
    "- Resistor de resistência $R\\in \\{220, 470, 1k, 2.2k, 4.7k, 10k, 47k, 100k\\} \\ \\Omega$;\n",
    "- Diodo 1N4148;\n",
    "\n",
    "**Esquemático:**\n",
    "<p align=\"center\">\n",
    "<img src=\"https://github.com/loolirer/Dispositivos-Eletronicos/blob/main/Avaliações/1°%20Estágio/Avaliação%201/Imagens/E01.jpg?raw=true\" height=\"250\" align=\"center\">\n",
    "</p>\n",
    "\n",
    "**Observações:**\n",
    "- O modelo do diodo escolhido na simulação precisa ter propriedades similares ao do selecionado;\n",
    "\n",
    "---"
   ]
  },
  {
   "cell_type": "markdown",
   "metadata": {},
   "source": [
    "## Funcionamento ⚙️\n",
    "\n",
    "Para a demonstração do funcionamento do circuito, será utilizada a plataforma *LTspice* para realizar sua simulação e coleta de dados referente às condições propostas.\n",
    "\n",
    "**Procedimentos:**\n",
    "1. ;\n",
    "2. ;\n",
    "3. ;\n",
    "\n",
    "---"
   ]
  },
  {
   "cell_type": "markdown",
   "metadata": {},
   "source": [
    "## Análise e Explicações 🔎 \n",
    "\n",
    "**Quesitos Propostos:**\n",
    "\n",
    "- Preencher uma tabela com os valores de tensão $(V_D)$ e corrente $(I_D)$ no diodo para cada valor de resistência $R$;\n",
    "- Construir o gráfico de sua curva característica, $V_D \\times I_D$, do diodo e checar se a forma está satisfatória;\n",
    "- Determinar os valores da corrente de saturação reversa $I_s$ e do $\\eta$ do diodo utilizando o método dos Mínimos Quadrados e checar se são satisfatórios;\n",
    "- Determinar matemáticamente a expressão que modela a curva característica desse diodo;\n",
    "\n",
    "---"
   ]
  },
  {
   "cell_type": "code",
   "execution_count": null,
   "metadata": {},
   "outputs": [],
   "source": [
    "# Importando módulos...\n",
    "import numpy as np\n",
    "import pandas as pd\n",
    "import matplotlib.pyplot as plt\n",
    "from scipy.optimize import curve_fit"
   ]
  },
  {
   "cell_type": "markdown",
   "metadata": {},
   "source": [
    "### Tabela de relação $R$ , $V_D$ e $I_D$"
   ]
  },
  {
   "attachments": {},
   "cell_type": "markdown",
   "metadata": {},
   "source": [
    "| R (Ohms) | 220   | 470   | 1k   | 2.2k | 4.7k  | 10k  | 47k  | 100k  |\n",
    "|----------|-------|-------|------|------|-------|------|------|-------|\n",
    "| V (V)    | 0.79  | 0.74 | 0.70 | 0.66 | 0.63 | 0.59 | 0.52 | 0.47 |\n",
    "| Id (mA)  | 50.94 | 23.95 | 11.3 | 5.15 | 2.04 | 1.14 | 0.24 | 0.11  |"
   ]
  },
  {
   "cell_type": "markdown",
   "metadata": {},
   "source": [
    "### Gráfico $V_D \\times I_D$"
   ]
  },
  {
   "cell_type": "code",
   "execution_count": null,
   "metadata": {},
   "outputs": [],
   "source": []
  },
  {
   "cell_type": "markdown",
   "metadata": {},
   "source": [
    "### Determinação do $I_s$ e $\\eta$"
   ]
  },
  {
   "cell_type": "code",
   "execution_count": null,
   "metadata": {},
   "outputs": [],
   "source": []
  },
  {
   "cell_type": "markdown",
   "metadata": {},
   "source": [
    "### Expressão da curva característica do 1N4148"
   ]
  }
 ],
 "metadata": {
  "language_info": {
   "name": "python"
  },
  "orig_nbformat": 4
 },
 "nbformat": 4,
 "nbformat_minor": 2
}
