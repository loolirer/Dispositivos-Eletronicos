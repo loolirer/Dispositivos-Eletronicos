{
 "cells": [
  {
   "cell_type": "markdown",
   "metadata": {},
   "source": [
    "# [Avaliação 0T](Link para PDF) - [Conteúdo] (DD/MM)\n",
    "\n",
    "Esta avaliação tem como objetivo o estudo referente à [Conteúdo Específico]. \n",
    "\n",
    "Desenvolvido por:\n",
    "\n",
    "- *André Vitor Cadena de Oliveira*\n",
    "- *Lorenzo Carrera de Oliveira* \n",
    "- *Mateus Pincho de Oliveira* \n",
    "\n",
    "---"
   ]
  },
  {
   "cell_type": "markdown",
   "metadata": {},
   "source": [
    "## Montagem 🛠️\n",
    "\n",
    "Lista de Componentes:\n",
    "- ;\n",
    "- ;\n",
    "- ;\n",
    "\n",
    "Esquemático:\n",
    "\n",
    "<p align=\"center\">\n",
    "<img src=\"\" height=\"\" align=\"center\">\n",
    "</p>\n",
    "\n",
    "Observações:\n",
    "- ;\n",
    "- ;\n",
    "- ;\n",
    "\n",
    "---"
   ]
  },
  {
   "cell_type": "markdown",
   "metadata": {},
   "source": [
    "## Funcionamento ⚙️\n",
    "\n",
    "Para a demonstração do funcionamento do circuito, será utilizada a plataforma *LTspice* para realizar sua simulação e coleta de dados referente às condições propostas.\n",
    "\n",
    "Procedimentos:\n",
    "1. ;\n",
    "2. ;\n",
    "3. ;\n",
    "\n",
    "---"
   ]
  },
  {
   "cell_type": "markdown",
   "metadata": {},
   "source": [
    "## Análise e Explicações 🔎 \n",
    "\n",
    "Quesitos Propostos:\n",
    "\n",
    "- ;\n",
    "- ;\n",
    "- ;\n",
    "\n",
    "---"
   ]
  },
  {
   "cell_type": "code",
   "execution_count": null,
   "metadata": {},
   "outputs": [],
   "source": [
    "# Importando módulos...\n",
    "import numpy as np\n",
    "import pandas as pd\n",
    "import matplotlib.pyplot as plt\n",
    "from scipy.optimize import curve_fit"
   ]
  },
  {
   "cell_type": "markdown",
   "metadata": {},
   "source": [
    "### [Quesito]"
   ]
  },
  {
   "cell_type": "code",
   "execution_count": null,
   "metadata": {},
   "outputs": [],
   "source": []
  }
 ],
 "metadata": {
  "language_info": {
   "name": "python"
  },
  "orig_nbformat": 4
 },
 "nbformat": 4,
 "nbformat_minor": 2
}
